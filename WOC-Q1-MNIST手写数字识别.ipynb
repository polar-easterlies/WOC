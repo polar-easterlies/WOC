{
 "cells": [
  {
   "cell_type": "markdown",
   "id": "40504455-fd80-4013-bebd-54e2810fe4ac",
   "metadata": {},
   "source": [
    "开始之前的准备工作："
   ]
  },
  {
   "cell_type": "markdown",
   "id": "ce1e2444-7409-4755-93c5-72bb2fdfe109",
   "metadata": {},
   "source": [
    "1.使用conda命令创建新的虚拟环境（pytorch）"
   ]
  },
  {
   "cell_type": "code",
   "execution_count": null,
   "id": "95ff29a1-5dcb-4872-9987-8f3f650ed66a",
   "metadata": {},
   "outputs": [],
   "source": [
    "conda create --name env_name python==version"
   ]
  },
  {
   "cell_type": "markdown",
   "id": "ea92a006-7ed8-4d2f-b96e-3bcf0e14b4ac",
   "metadata": {},
   "source": [
    "2.在Anaconda Prompt进入指定虚拟环境中使用pip命令安装所需库"
   ]
  },
  {
   "cell_type": "code",
   "execution_count": null,
   "id": "2f292855-ea10-4632-a48f-e946b2dbdc27",
   "metadata": {},
   "outputs": [],
   "source": [
    "pip install torch torchvision tensorflow numpy matplotlib keras(==version)"
   ]
  },
  {
   "cell_type": "markdown",
   "id": "87f9b874-421c-4522-ac96-166a104ac047",
   "metadata": {},
   "source": [
    "3.下载py第三方库请把镜像网站焊在头上！"
   ]
  },
  {
   "cell_type": "code",
   "execution_count": null,
   "id": "965a2b13-9356-4db0-b6c2-599644cac114",
   "metadata": {},
   "outputs": [],
   "source": [
    "pip install pyinstaller -i https://pypi.douban.com/simple --trusted-host pypi.douban.com"
   ]
  },
  {
   "cell_type": "markdown",
   "id": "e84ee73e-44c9-48cc-b40d-7aa650335e1a",
   "metadata": {},
   "source": [
    "4.安装完后直接输入以下命令，切记要从指定虚拟环境中进入idle"
   ]
  },
  {
   "cell_type": "code",
   "execution_count": null,
   "id": "5eed6283-129b-4dae-a006-17c4a733e153",
   "metadata": {},
   "outputs": [],
   "source": [
    "python -m idlelib.idle"
   ]
  },
  {
   "cell_type": "markdown",
   "id": "e765c587-3305-4c98-bea7-1052faad7de0",
   "metadata": {},
   "source": [
    "注意事项："
   ]
  },
  {
   "cell_type": "markdown",
   "id": "0f8d0762-ce5a-42fe-b437-e9af57e88f1f",
   "metadata": {},
   "source": [
    "1.解决tensorflow2.15问题在开头加上以下代码"
   ]
  },
  {
   "cell_type": "code",
   "execution_count": null,
   "id": "f49249ec-f725-4fef-b364-16c6bf4958d5",
   "metadata": {},
   "outputs": [],
   "source": [
    "set TF_ENABLE_ONEDNN_OPTS=0"
   ]
  },
  {
   "cell_type": "markdown",
   "id": "469f6c0e-3261-47f9-8d96-b1e35b377c45",
   "metadata": {},
   "source": [
    "2.一定要以管理员身份升级库"
   ]
  },
  {
   "cell_type": "code",
   "execution_count": null,
   "id": "00cd048f-5d85-4a82-b040-a13838152399",
   "metadata": {},
   "outputs": [],
   "source": [
    "pip install --user --upgrade --ignore-installed 指定库==指定版本"
   ]
  },
  {
   "cell_type": "markdown",
   "id": "14beddc2-df3c-4a51-ae83-fb9b327e9583",
   "metadata": {},
   "source": [
    "3.千万要注意各个库版本之间的兼容问题！不然会出大问题！"
   ]
  },
  {
   "cell_type": "markdown",
   "id": "55b80baf-25bf-4aac-81cc-1f4ad44d4d41",
   "metadata": {},
   "source": [
    "4.下载指定版本库操作"
   ]
  },
  {
   "cell_type": "code",
   "execution_count": null,
   "id": "7c276aad-6a4c-4f3e-9356-29dae7f90ab3",
   "metadata": {},
   "outputs": [],
   "source": [
    "pip uninstall keras\n",
    "pip install  keras==2.15.0 最好加上内地镜像源网站"
   ]
  },
  {
   "cell_type": "markdown",
   "id": "e4140b85-b586-4a85-bd60-08f0a7a22bca",
   "metadata": {},
   "source": [
    "5.常见内地镜像源"
   ]
  },
  {
   "cell_type": "code",
   "execution_count": null,
   "id": "c7443824-e52f-45ce-a5b2-1b9762e510fd",
   "metadata": {},
   "outputs": [],
   "source": [
    "#豆瓣：https://pypi.douban.com/simple\n",
    "#清华：https://pypi.tuna.tsinghua.edu.cn/simple\n",
    "#阿里云：https://mirrors.aliyun.com/pypi/simple\n",
    "pip --default-timeout=1000 install -XXX -i https://pypi.douban.com/simple\n",
    "#将安装时间限制调整也可以提高第三方库下载效率"
   ]
  },
  {
   "cell_type": "markdown",
   "id": "3f8ab291-9a59-4b8e-9e36-18a34493f019",
   "metadata": {},
   "source": [
    "6.解决mnist无法从外网Google下载问题"
   ]
  },
  {
   "cell_type": "markdown",
   "id": "2df2e37e-2841-49af-be74-b2419d52e0b3",
   "metadata": {},
   "source": [
    "把mnist.npz文件下载保存到指定文件夹\n",
    "将mnist.py文件中的\n",
    "origin_folder = \"https:......\"改成\n",
    "\"origin_folder = \"C:/Users/22472/.keras/datasets/\"指定文件夹目录注意看源代码\n",
    "一定要双引号和/！"
   ]
  },
  {
   "cell_type": "markdown",
   "id": "a8fd946d-cef4-4f83-8dd9-2cc8d9278d46",
   "metadata": {},
   "source": [
    "自己写一段源代码load_data()"
   ]
  },
  {
   "cell_type": "code",
   "execution_count": null,
   "id": "a7292613-7f06-4f25-9811-b0e72cc406b2",
   "metadata": {},
   "outputs": [],
   "source": [
    "def load_data():\n",
    "    \"\"\"Loads the MNIST dataset.\n",
    "    # Arguments\n",
    "        path: path where to cache the dataset locally\n",
    "            (relative to ~/.keras/datasets).\n",
    "    # Returns\n",
    "        Tuple of Numpy arrays: `(x_train, y_train), (x_test, y_test)`.\n",
    "        \"\"\"\n",
    "    path='D:\\\\anaconda\\\\envs\\\\pytorch\\\\Lib\\site-packages\\\\tensorflow\\\\python\\\\keras\\\\datasets\\\\minst.npz'\n",
    "    f = np.load(path)\n",
    "    x_train, y_train = f['x_train'], f['y_train']\n",
    "    x_test, y_test = f['x_test'], f['y_test']\n",
    "    f.close()\n",
    "return (x_train, y_train), (x_test, y_test)\n",
    "#记得把下面的imoprt mnist和代码里的mnist去掉"
   ]
  },
  {
   "cell_type": "markdown",
   "id": "1a122b4d-faf3-4371-9fbc-98457a916964",
   "metadata": {},
   "source": [
    "7.循环引用（circular import）"
   ]
  },
  {
   "cell_type": "markdown",
   "id": "5046decc-2fc5-479b-92e5-b3a835bbb558",
   "metadata": {},
   "source": [
    "cannot import name 'to_str' from partially initialized module 'urllib3.util' (most likely due to a circular import) \n",
    "(D:\\anaconda\\envs\\scrapy\\Lib\\site-packages\\urllib3\\util\\__init__.py)"
   ]
  },
  {
   "cell_type": "markdown",
   "id": "b263a441-67d9-4c4d-8faf-fa74b65f2322",
   "metadata": {},
   "source": [
    "原因：model和py或package文件重名"
   ]
  },
  {
   "cell_type": "markdown",
   "id": "0dd52e60-17aa-43b0-9d31-4c9bacfbca80",
   "metadata": {},
   "source": [
    "解决：需要绝对引用"
   ]
  },
  {
   "cell_type": "markdown",
   "id": "42314bb0-943a-45d3-bf92-d98f98ba3b4d",
   "metadata": {},
   "source": [
    "例子：from urllib3.util.util import to_str"
   ]
  },
  {
   "cell_type": "markdown",
   "id": "f1418359-7521-4124-aa41-09e48999ccf0",
   "metadata": {},
   "source": [
    "实战流程：果"
   ]
  },
  {
   "cell_type": "markdown",
   "id": "b852f7d4-1b78-46c4-b66b-ab7c6f5a799c",
   "metadata": {},
   "source": [
    "1.获取数据，并将数据处理成合适的格式"
   ]
  },
  {
   "cell_type": "markdown",
   "id": "a16f0758-63ed-4f19-a0da-07b77dcc5ef7",
   "metadata": {},
   "source": [
    "2.按照自己的设计搭建神经网络"
   ]
  },
  {
   "cell_type": "markdown",
   "id": "6371bca4-7e8c-4b9f-866e-5682b448f44c",
   "metadata": {},
   "source": [
    "3.设定合适的参数训练神经网络"
   ]
  },
  {
   "cell_type": "markdown",
   "id": "ab91ce05-d2b2-4d8f-b08f-11c87b7b141c",
   "metadata": {},
   "source": [
    "4.在测试集上评价训练效果"
   ]
  },
  {
   "cell_type": "markdown",
   "id": "409d1cf6-5793-4883-a330-dfaff44b8273",
   "metadata": {},
   "source": [
    "代码演示："
   ]
  },
  {
   "cell_type": "code",
   "execution_count": null,
   "id": "134ce664-d8a1-4539-b034-9ccd00bc7f2c",
   "metadata": {},
   "outputs": [],
   "source": [
    "import torch  \n",
    "import torch.nn as nn  \n",
    "import torch.optim as optim  \n",
    "from torchvision import datasets, transforms  \n",
    "from torch.utils.data import DataLoader  \n",
    "from torchvision.models import vgg16  \n",
    "import numpy as np  \n",
    "import matplotlib.pyplot as plt  "
   ]
  },
  {
   "cell_type": "code",
   "execution_count": null,
   "id": "7f71882c-6180-474d-a362-f0937af9f492",
   "metadata": {},
   "outputs": [],
   "source": [
    "# 步骤1：导入并转换图片数据  \n",
    "transform = transforms.Compose([  \n",
    "    transforms.ToTensor(),  \n",
    "    transforms.Normalize((0.5,), (0.5,))  # 归一化图片数据  \n",
    "])  \n",
    "  \n",
    "trainset = datasets.MNIST('~/.pytorch/MNIST_data/', download=True, train=True, transform=transform)  \n",
    "trainloader = DataLoader(trainset, batch_size=64, shuffle=True)  \n",
    "  \n",
    "testset = datasets.MNIST('~/.pytorch/MNIST_data/', download=True, train=False, transform=transform)  \n",
    "testloader = DataLoader(testset, batch_size=64, shuffle=True)  \n",
    "  \n",
    "# 步骤2：定义数据迭代器  \n",
    "# 已在步骤1中定义  "
   ]
  },
  {
   "cell_type": "code",
   "execution_count": null,
   "id": "3177540c-74d0-4ba2-ad04-88b1d6cd1c0f",
   "metadata": {},
   "outputs": [],
   "source": [
    "# 步骤3：定义网络模型  \n",
    "class Net(nn.Module):  \n",
    "    def __init__(self):  \n",
    "        super(Net, self).__init__()  \n",
    "        self.conv1 = nn.Conv2d(1, 10, kernel_size=5)  \n",
    "        self.conv2 = nn.Conv2d(10, 20, kernel_size=5)  \n",
    "        self.conv2_drop = nn.Dropout2d()  \n",
    "        self.fc1 = nn.Linear(320, 50)  \n",
    "        self.fc2 = nn.Linear(50, 10)  \n",
    "  \n",
    "    def forward(self, x):  \n",
    "        x = F.relu(F.max_pool2d(self.conv1(x), 2))  \n",
    "        x = F.relu(F.max_pool2d(self.conv2_drop(self.conv2(x)), 2))  \n",
    "        x = x.view(-1, 320)  \n",
    "        x = F.relu(self.fc1(x))  \n",
    "        x = F.dropout(x, training=self.training)  \n",
    "        x = self.fc2(x)  \n",
    "        return F.log_softmax(x, dim=1)  \n",
    "  \n",
    "net = Net()  "
   ]
  },
  {
   "cell_type": "code",
   "execution_count": null,
   "id": "82db42dc-dce6-4eb8-9638-cbe4945cd39b",
   "metadata": {},
   "outputs": [],
   "source": [
    "# 步骤4：利用训练集数据训练模型  \n",
    "criterion = nn.NLLLoss()  \n",
    "optimizer = optim.SGD(net.parameters(), lr=0.003)  \n",
    "  \n",
    "for epoch in range(2):  # loop over the dataset multiple times  \n",
    "    running_loss = 0.0  \n",
    "    for i, data in enumerate(trainloader, 0):  \n",
    "        # get the inputs; data is a list of [inputs, labels]  \n",
    "        inputs, labels = data  \n",
    "  \n",
    "        # zero the parameter gradients  \n",
    "        optimizer.zero_grad()  \n",
    "  \n",
    "        # forward + backward + optimize  \n",
    "        outputs = net(inputs)  \n",
    "        loss = criterion(outputs, labels)  \n",
    "        loss.backward()  \n",
    "        optimizer.step()  \n",
    "  \n",
    "        # print statistics  \n",
    "        running_loss += loss.item()  \n",
    "        if i % 2000 == 1999:    # print every 2000 mini-batches  \n",
    "            print('[%d, %5d] loss: %.3f' %  \n",
    "                  (epoch + 1, i + 1, running_loss / 2000))  \n",
    "            running_loss = 0.0  \n",
    "  \n",
    "print('Finished Training')  "
   ]
  },
  {
   "cell_type": "code",
   "execution_count": null,
   "id": "8a71081c-8e2a-423a-8794-22a9ca925ff3",
   "metadata": {},
   "outputs": [],
   "source": [
    "# 步骤5：利用分出来的测试集数据验证模型性能  \n",
    "correct_count, all_count = 0, 0  \n",
    "with torch.no_grad():  \n",
    "    for images, labels in testloader:  \n",
    "        outputs = net(images)  \n",
    "        _, predicted = torch.max(outputs.data, 1)  \n",
    "        total = labels.size(0)  \n",
    "        correct_count += (predicted == labels).sum().item()  \n",
    "        all_count += total  \n",
    "  \n",
    "print('Accuracy of the network on the 10000 test images: %d %%' % (  \n",
    "    100 * correct_count / all_count))  "
   ]
  },
  {
   "cell_type": "code",
   "execution_count": null,
   "id": "f2e34e30-bb5b-42b6-949e-d2fa6a3bc81b",
   "metadata": {},
   "outputs": [],
   "source": [
    "# 步骤6：训练完成后挑几个图片看看模型的预测结果  \n",
    "images, labels = next(iter(testloader))"
   ]
  }
 ],
 "metadata": {
  "kernelspec": {
   "display_name": "Python 3 (ipykernel)",
   "language": "python",
   "name": "python3"
  },
  "language_info": {
   "codemirror_mode": {
    "name": "ipython",
    "version": 3
   },
   "file_extension": ".py",
   "mimetype": "text/x-python",
   "name": "python",
   "nbconvert_exporter": "python",
   "pygments_lexer": "ipython3",
   "version": "3.11.5"
  }
 },
 "nbformat": 4,
 "nbformat_minor": 5
}
